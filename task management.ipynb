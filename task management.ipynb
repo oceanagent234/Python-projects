{
 "cells": [
  {
   "cell_type": "code",
   "execution_count": 33,
   "id": "9753150f-c282-434c-905a-304e0b0ee715",
   "metadata": {},
   "outputs": [
    {
     "name": "stdout",
     "output_type": "stream",
     "text": [
      "__Welcome to the task management app___\n"
     ]
    },
    {
     "name": "stdin",
     "output_type": "stream",
     "text": [
      "Mention the number of tasks:  4\n",
      "Add task 1:  read\n",
      "Add task 2:  write\n",
      "Add task 3:  rrr\n",
      "Add task 4:  www\n"
     ]
    },
    {
     "name": "stdout",
     "output_type": "stream",
     "text": [
      "The tasks are: ['read', 'write', 'rrr', 'www']\n"
     ]
    },
    {
     "name": "stdin",
     "output_type": "stream",
     "text": [
      "1. Add Task\n",
      "2. Update Task\n",
      "3. Delete Task\n",
      "4.list the tasks\n",
      "5. Exit/Quit\n",
      " 1\n",
      "Enter the task to add:  fff\n"
     ]
    },
    {
     "name": "stdout",
     "output_type": "stream",
     "text": [
      "Task successfully added.\n"
     ]
    },
    {
     "name": "stdin",
     "output_type": "stream",
     "text": [
      "1. Add Task\n",
      "2. Update Task\n",
      "3. Delete Task\n",
      "4.list the tasks\n",
      "5. Exit/Quit\n",
      " 2\n",
      "Enter the task you want to update:  rrr\n",
      "Enter the new value:  qqq\n"
     ]
    },
    {
     "name": "stdout",
     "output_type": "stream",
     "text": [
      "Updated task 'rrr' to 'qqq'.\n"
     ]
    },
    {
     "name": "stdin",
     "output_type": "stream",
     "text": [
      "1. Add Task\n",
      "2. Update Task\n",
      "3. Delete Task\n",
      "4.list the tasks\n",
      "5. Exit/Quit\n",
      " 4\n"
     ]
    },
    {
     "name": "stdout",
     "output_type": "stream",
     "text": [
      " todays tasks are: ['read', 'write', 'qqq', 'www', 'fff']\n"
     ]
    },
    {
     "name": "stdin",
     "output_type": "stream",
     "text": [
      "1. Add Task\n",
      "2. Update Task\n",
      "3. Delete Task\n",
      "4.list the tasks\n",
      "5. Exit/Quit\n",
      " 5\n"
     ]
    },
    {
     "name": "stdout",
     "output_type": "stream",
     "text": [
      "Closing the program...\n"
     ]
    }
   ],
   "source": [
    "def tasks():\n",
    "    Tasks = []\n",
    "    print(\"__Welcome to the task management app___\")\n",
    "    \n",
    "    tasks_no = int(input(\"Mention the number of tasks: \"))\n",
    "    for i in range(1, tasks_no + 1):\n",
    "        tasks_name = input(f\"Add task {i}: \")\n",
    "        Tasks.append(tasks_name)\n",
    "\n",
    "    print(f\"The tasks are: {Tasks}\")\n",
    "\n",
    "    while True:\n",
    "        try:\n",
    "            operations = int(input(\"1. Add Task\\n2. Update Task\\n3. Delete Task\\n4.list the tasks\\n5. Exit/Quit\\n\"))\n",
    "            \n",
    "            if operations == 1:  # Add task\n",
    "                add_task = input(\"Enter the task to add: \")\n",
    "                Tasks.append(add_task)\n",
    "                print(\"Task successfully added.\")\n",
    "            \n",
    "            elif operations == 2:  # Update task\n",
    "                update_task = input(\"Enter the task you want to update: \")\n",
    "                if update_task in Tasks:\n",
    "                    update = input(\"Enter the new value: \")\n",
    "                    index = Tasks.index(update_task)\n",
    "                    Tasks[index] = update\n",
    "                    print(f\"Updated task '{update_task}' to '{update}'.\")\n",
    "                else:\n",
    "                    print(\"Task not found.\")\n",
    "            \n",
    "            elif operations == 3:  # Delete task\n",
    "                delete_task = input(\"Enter the task to delete: \")\n",
    "                if delete_task in Tasks:\n",
    "                    Tasks.remove(delete_task)\n",
    "                    print(f\"'{delete_task}' was successfully deleted.\")\n",
    "                else:\n",
    "                    print(\"Task not found.\")\n",
    "\n",
    "            elif operations == 4:\n",
    "                print(f\" todays tasks are: {Tasks}\")\n",
    "            \n",
    "            \n",
    "            elif operations == 5:  # Exit/Quit\n",
    "                print(\"Closing the program...\")\n",
    "                break\n",
    "            \n",
    "            else:\n",
    "                print(\"Invalid Input. Please enter a number from 1 to 5.\")\n",
    "\n",
    "        except ValueError:\n",
    "            print(\"Invalid Input. Please enter a valid number.\")\n",
    "\n",
    "tasks()\n",
    "\n",
    "            \n",
    "            \n",
    "            \n",
    "            \n",
    "\n",
    "\n",
    "        \n",
    "    \n",
    "\n",
    "                 \n",
    "\n",
    "                 \n",
    "                 "
   ]
  },
  {
   "cell_type": "code",
   "execution_count": null,
   "id": "2089d472-ebfa-4050-8e9b-d6be88d2795c",
   "metadata": {},
   "outputs": [],
   "source": []
  },
  {
   "cell_type": "code",
   "execution_count": null,
   "id": "bdb1d347-84b5-48fc-ac44-86e320d0c24a",
   "metadata": {},
   "outputs": [],
   "source": []
  }
 ],
 "metadata": {
  "kernelspec": {
   "display_name": "Python 3 (ipykernel)",
   "language": "python",
   "name": "python3"
  },
  "language_info": {
   "codemirror_mode": {
    "name": "ipython",
    "version": 3
   },
   "file_extension": ".py",
   "mimetype": "text/x-python",
   "name": "python",
   "nbconvert_exporter": "python",
   "pygments_lexer": "ipython3",
   "version": "3.11.7"
  }
 },
 "nbformat": 4,
 "nbformat_minor": 5
}
